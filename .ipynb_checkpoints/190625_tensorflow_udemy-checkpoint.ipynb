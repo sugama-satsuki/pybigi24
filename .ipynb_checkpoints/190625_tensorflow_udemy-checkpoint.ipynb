{
 "cells": [
  {
   "cell_type": "code",
   "execution_count": 1,
   "metadata": {},
   "outputs": [
    {
     "name": "stderr",
     "output_type": "stream",
     "text": [
      "C:\\Users\\okiso\\Anaconda3\\envs\\tensorflow-cpu\\lib\\site-packages\\sklearn\\utils\\deprecation.py:85: DeprecationWarning: Function fetch_mldata is deprecated; fetch_mldata was deprecated in version 0.20 and will be removed in version 0.22. Please use fetch_openml.\n",
      "  warnings.warn(msg, category=DeprecationWarning)\n",
      "C:\\Users\\okiso\\Anaconda3\\envs\\tensorflow-cpu\\lib\\site-packages\\sklearn\\utils\\deprecation.py:85: DeprecationWarning: Function mldata_filename is deprecated; mldata_filename was deprecated in version 0.20 and will be removed in version 0.22. Please use fetch_openml.\n",
      "  warnings.warn(msg, category=DeprecationWarning)\n"
     ]
    }
   ],
   "source": [
    "from sklearn.datasets import fetch_mldata\n",
    "mnist = fetch_mldata(\"MNIST original\")\n",
    "\n",
    "X = mnist.data\n",
    "y = mnist.target\n",
    "\n",
    "from sklearn import preprocessing\n",
    "lb = preprocessing.LabelBinarizer() #バイナリーってなんだろ\n",
    "lb.fit(range(0,10)) #0から10個あると指定する感じかな\n",
    "y_onehot = lb.transform(y)"
   ]
  },
  {
   "cell_type": "code",
   "execution_count": 7,
   "metadata": {},
   "outputs": [],
   "source": [
    "import tensorflow as tf\n",
    "import numpy as np"
   ]
  },
  {
   "cell_type": "markdown",
   "metadata": {},
   "source": [
    "イテレーション（何？）\n",
    "\n",
    "sk-learnのデータを持ってきてそれをtensorflow用にする\n"
   ]
  },
  {
   "cell_type": "code",
   "execution_count": 3,
   "metadata": {},
   "outputs": [
    {
     "name": "stdout",
     "output_type": "stream",
     "text": [
      "[0. 0. 0. 0. 0. 0. 0. 0. 0. 0.]\n",
      "[9. 9. 9. 9. 9. 9. 9. 9. 9. 9.]\n"
     ]
    }
   ],
   "source": [
    "#sk-learnのyについて確認すると 0~9で定義されてる\n",
    "print(y[:10])\n",
    "print(y[-10:])"
   ]
  },
  {
   "cell_type": "markdown",
   "metadata": {},
   "source": [
    "one-hot-bectorを使用する\n",
    "0なら [1,0,0,0,0,0,0,0,0,0]になるようにする\n",
    "\n",
    "sklearnにある\n",
    "ラベルをバイナリーにする？\n"
   ]
  },
  {
   "cell_type": "code",
   "execution_count": 5,
   "metadata": {
    "collapsed": true
   },
   "outputs": [
    {
     "name": "stdout",
     "output_type": "stream",
     "text": [
      "[[1 0 0 0 0 0 0 0 0 0]\n",
      " [1 0 0 0 0 0 0 0 0 0]\n",
      " [1 0 0 0 0 0 0 0 0 0]\n",
      " [1 0 0 0 0 0 0 0 0 0]\n",
      " [1 0 0 0 0 0 0 0 0 0]\n",
      " [1 0 0 0 0 0 0 0 0 0]\n",
      " [1 0 0 0 0 0 0 0 0 0]\n",
      " [1 0 0 0 0 0 0 0 0 0]\n",
      " [1 0 0 0 0 0 0 0 0 0]\n",
      " [1 0 0 0 0 0 0 0 0 0]]\n",
      "---------\n",
      "[[0 0 0 0 0 0 0 0 0 1]\n",
      " [0 0 0 0 0 0 0 0 0 1]\n",
      " [0 0 0 0 0 0 0 0 0 1]\n",
      " [0 0 0 0 0 0 0 0 0 1]\n",
      " [0 0 0 0 0 0 0 0 0 1]\n",
      " [0 0 0 0 0 0 0 0 0 1]\n",
      " [0 0 0 0 0 0 0 0 0 1]\n",
      " [0 0 0 0 0 0 0 0 0 1]\n",
      " [0 0 0 0 0 0 0 0 0 1]\n",
      " [0 0 0 0 0 0 0 0 0 1]]\n"
     ]
    }
   ],
   "source": [
    "#one-hotに変更されたのを家訓してる\n",
    "print(y_onehot[:10])\n",
    "print(\"---------\")\n",
    "print(y_onehot[-10:])"
   ]
  },
  {
   "cell_type": "code",
   "execution_count": 8,
   "metadata": {},
   "outputs": [],
   "source": [
    "#サイズは指定することができるけど、画像の個数をNoneにすると任意にできる　batchサイズが変わっても大丈夫\n",
    "#batchの中でのデータについての処理をかく\n",
    "x_input = tf.placeholder(tf.float32, [None, 784])\n",
    "y_teacher = tf.placeholder(tf.float32, [None, 10])"
   ]
  },
  {
   "cell_type": "code",
   "execution_count": 9,
   "metadata": {},
   "outputs": [],
   "source": [
    "#ドロップアウトの指定を行う\n",
    "#これはどれぐらい忘れさせるかを記憶させるための定数。引数で渡す\n",
    "###input層###\n",
    "keep_prob_input = tf.placeholder(tf.float32)"
   ]
  },
  {
   "cell_type": "code",
   "execution_count": 10,
   "metadata": {},
   "outputs": [
    {
     "name": "stdout",
     "output_type": "stream",
     "text": [
      "WARNING:tensorflow:From <ipython-input-10-f1b9ec8fe65c>:2: calling dropout (from tensorflow.python.ops.nn_ops) with keep_prob is deprecated and will be removed in a future version.\n",
      "Instructions for updating:\n",
      "Please use `rate` instead of `keep_prob`. Rate should be set to `rate = 1 - keep_prob`.\n"
     ]
    }
   ],
   "source": [
    "###第一層###\n",
    "x_input_layer = tf.nn.dropout(x_input, keep_prob=keep_prob_input)\n",
    "\n",
    "    #重みをつなげていく\n",
    "    \n",
    "#50 次の層を５０にすると\n",
    "def weight_variable(shape): #重みのを層を全部0にするとよくないのでランダムで初期化する関数を作る\n",
    "    #標準偏差が0.01の切断正規分布にしたがって初期値をランダム生成\n",
    "        #shapeの数だけ作成する\n",
    "    initial = tf.truncated_normal(shape, stddev=0.01) #切断正規分布(truncated_normal)のつくり方\n",
    "    return tf.Variable(initial)\n",
    "\n",
    "def bias_variable(shape): #baisもやる。これはゼロでいいから、shapeの分の0を作る\n",
    "    initial = tf.constant(0.0, shape=shape)\n",
    "    return tf.Variable(initial)    "
   ]
  },
  {
   "cell_type": "code",
   "execution_count": 12,
   "metadata": {},
   "outputs": [],
   "source": [
    "hidden_layer_size = 50\n",
    "\n",
    "# 全部同じサイズで作る\n",
    "\n",
    "W_fc1 = weight_variable([784, hidden_layer_size])\n",
    "b_fc1 = bias_variable([hidden_layer_size])\n",
    "#----------↑までが第一層。次で活性化関数を使用する"
   ]
  },
  {
   "cell_type": "code",
   "execution_count": 13,
   "metadata": {},
   "outputs": [],
   "source": [
    "#relu関数を活性化関数として使用\n",
    "h_fc1 = tf.nn.relu(tf.matmul(x_input_layer, W_fc1) + b_fc1) #第一層の出力の総和の計算\n",
    "\n",
    "keep_prob = tf.placeholder(tf.float32) #どれだけドロップアウトするか\n",
    "#ドロップアウト済みの出力\n",
    "h_fc1_drop = tf.nn.dropout(h_fc1, keep_prob)\n",
    "#--------------↑ここまでは説明しながら作る\n",
    "#--------------↓は第二層は同じようにやる\n",
    "#--------------第三層は出力層を作ってこんな感じにする\n",
    "#--------------コスト関数、最適化関数、iteration"
   ]
  },
  {
   "cell_type": "code",
   "execution_count": 14,
   "metadata": {},
   "outputs": [],
   "source": [
    "###第二層###\n",
    "W_fc2 = weight_variable([hidden_layer_size, hidden_layer_size])\n",
    "b_fc2 = bias_variable([hidden_layer_size])\n",
    "h_fc2 = tf.nn.relu(tf.matmul(h_fc1_drop, W_fc2) + b_fc2)\n",
    "h_fc2_drop = tf.nn.dropout(h_fc2, keep_prob)\n",
    "\n",
    "###第三層###\n",
    "#出力は0~9までの10個を、softmax関数で確率として出力\n",
    "W_fc3 = weight_variable([hidden_layer_size, 10])\n",
    "b_fc3 = bias_variable([10])\n",
    "y_out = tf.nn.softmax(tf.matmul(h_fc2_drop, W_fc3) + b_fc3)"
   ]
  },
  {
   "cell_type": "code",
   "execution_count": 15,
   "metadata": {},
   "outputs": [
    {
     "name": "stdout",
     "output_type": "stream",
     "text": [
      "WARNING:tensorflow:From C:\\Users\\okiso\\Anaconda3\\envs\\tensorflow-cpu\\lib\\site-packages\\tensorflow\\python\\ops\\math_ops.py:3066: to_int32 (from tensorflow.python.ops.math_ops) is deprecated and will be removed in a future version.\n",
      "Instructions for updating:\n",
      "Use tf.cast instead.\n"
     ]
    }
   ],
   "source": [
    "#コスト関数\n",
    "cross_entropy =  tf.reduce_mean(-tf.reduce_sum(y_teacher*tf.log(y_out), reduction_indices=[1]))\n",
    "\n",
    "#最適化関数\n",
    "optimizer = tf.train.AdamOptimizer(learning_rate=0.0001).minimize(cross_entropy)\n",
    "\n",
    "#iteration\n",
    "correct_prediction = tf.equal(tf.argmax(y_out, 1), tf.argmax(y_teacher, 1))\n",
    "                                \n",
    "accuracy = tf.reduce_mean(tf.cast(correct_prediction, tf.float32))"
   ]
  },
  {
   "cell_type": "code",
   "execution_count": 16,
   "metadata": {},
   "outputs": [],
   "source": [
    "from sklearn.model_selection import train_test_split\n",
    "X_train, X_test, y_train, y_test = map(lambda x : np.array(x).astype(np.float32), train_test_split(X, y_onehot, test_size=0.3))"
   ]
  },
  {
   "cell_type": "code",
   "execution_count": 17,
   "metadata": {},
   "outputs": [
    {
     "name": "stdout",
     "output_type": "stream",
     "text": [
      "=====================\n",
      "1 : training accuracy 10.000000149011612%\n",
      "1 : test accuracy 8.052381128072739%\n",
      "Validation accuracy improved: 8.052381128072739%. Saving the network.\n",
      "=====================\n",
      "2 : training accuracy 91.00000262260437%\n",
      "2 : test accuracy 90.58095216751099%\n",
      "Validation accuracy improved: 90.58095216751099%. Saving the network.\n",
      "=====================\n",
      "3 : training accuracy 88.99999856948853%\n",
      "3 : test accuracy 91.91904664039612%\n",
      "Validation accuracy improved: 91.91904664039612%. Saving the network.\n",
      "=====================\n",
      "4 : training accuracy 94.9999988079071%\n",
      "4 : test accuracy 93.57619285583496%\n",
      "Validation accuracy improved: 93.57619285583496%. Saving the network.\n",
      "=====================\n",
      "5 : training accuracy 93.99999976158142%\n",
      "5 : test accuracy 94.18571591377258%\n",
      "Validation accuracy improved: 94.18571591377258%. Saving the network.\n",
      "=====================\n",
      "6 : training accuracy 92.00000166893005%\n",
      "6 : test accuracy 94.9999988079071%\n",
      "Validation accuracy improved: 94.9999988079071%. Saving the network.\n",
      "=====================\n",
      "7 : training accuracy 94.9999988079071%\n",
      "7 : test accuracy 95.39999961853027%\n",
      "Validation accuracy improved: 95.39999961853027%. Saving the network.\n",
      "=====================\n",
      "8 : training accuracy 98.00000190734863%\n",
      "8 : test accuracy 95.78571319580078%\n",
      "Validation accuracy improved: 95.78571319580078%. Saving the network.\n",
      "=====================\n",
      "9 : training accuracy 97.00000286102295%\n",
      "9 : test accuracy 96.19523882865906%\n",
      "Validation accuracy improved: 96.19523882865906%. Saving the network.\n",
      "=====================\n",
      "10 : training accuracy 95.99999785423279%\n",
      "10 : test accuracy 96.16666436195374%\n",
      "WARNING:tensorflow:From C:\\Users\\okiso\\Anaconda3\\envs\\tensorflow-cpu\\lib\\site-packages\\tensorflow\\python\\training\\saver.py:1266: checkpoint_exists (from tensorflow.python.training.checkpoint_management) is deprecated and will be removed in a future version.\n",
      "Instructions for updating:\n",
      "Use standard file APIs to check for files with this prefix.\n",
      "INFO:tensorflow:Restoring parameters from mnist_fc_best\n",
      "restore!!!! now : 96.16666436195374, before : 96.19523882865906\n",
      "=====================\n",
      "11 : training accuracy 93.99999976158142%\n",
      "11 : test accuracy 96.33333086967468%\n",
      "Validation accuracy improved: 96.33333086967468%. Saving the network.\n",
      "=====================\n",
      "12 : training accuracy 93.00000071525574%\n",
      "12 : test accuracy 96.1809515953064%\n",
      "INFO:tensorflow:Restoring parameters from mnist_fc_best\n",
      "restore!!!! now : 96.1809515953064, before : 96.33333086967468\n",
      "=====================\n",
      "13 : training accuracy 97.00000286102295%\n",
      "13 : test accuracy 96.44285440444946%\n",
      "Validation accuracy improved: 96.44285440444946%. Saving the network.\n",
      "=====================\n",
      "14 : training accuracy 97.00000286102295%\n",
      "14 : test accuracy 96.63809537887573%\n",
      "Validation accuracy improved: 96.63809537887573%. Saving the network.\n",
      "=====================\n",
      "15 : training accuracy 100.0%\n",
      "15 : test accuracy 96.704763174057%\n",
      "Validation accuracy improved: 96.704763174057%. Saving the network.\n",
      "=====================\n",
      "16 : training accuracy 93.99999976158142%\n",
      "16 : test accuracy 96.79999947547913%\n",
      "Validation accuracy improved: 96.79999947547913%. Saving the network.\n",
      "=====================\n",
      "17 : training accuracy 97.00000286102295%\n",
      "17 : test accuracy 96.70952558517456%\n",
      "INFO:tensorflow:Restoring parameters from mnist_fc_best\n",
      "restore!!!! now : 96.70952558517456, before : 96.79999947547913\n",
      "=====================\n",
      "18 : training accuracy 98.00000190734863%\n",
      "18 : test accuracy 97.0285713672638%\n",
      "Validation accuracy improved: 97.0285713672638%. Saving the network.\n",
      "=====================\n",
      "19 : training accuracy 98.00000190734863%\n",
      "19 : test accuracy 96.92857265472412%\n",
      "INFO:tensorflow:Restoring parameters from mnist_fc_best\n",
      "restore!!!! now : 96.92857265472412, before : 97.0285713672638\n",
      "=====================\n",
      "20 : training accuracy 99.00000095367432%\n",
      "20 : test accuracy 96.95714116096497%\n",
      "INFO:tensorflow:Restoring parameters from mnist_fc_best\n",
      "restore!!!! now : 96.95714116096497, before : 97.0285713672638\n"
     ]
    }
   ],
   "source": [
    "#train:49000\n",
    "#test :2100\n",
    "import random\n",
    "saver = tf.train.Saver()\n",
    "\n",
    "init = tf.global_variables_initializer()\n",
    "sess = tf.Session()\n",
    "sess.run(init)\n",
    "\n",
    "saver.save(sess, \"mnist_fc_best\")\n",
    "\n",
    "epoch_size = 20\n",
    "batch_size = 100\n",
    "best_accuracy = 0.0\n",
    "\n",
    "def random_sample(X, y, size=100):\n",
    "    idx = range(0, len(y))\n",
    "    random_idx = random.sample(idx, size)\n",
    "    return X[random_idx, :], y[random_idx, :]\n",
    "    \n",
    "    \n",
    "for epoch in range(1,epoch_size+1):\n",
    "    \n",
    "    for i in range(int(len(y_train)/batch_size)):\n",
    "        X_batch, y_batch = random_sample(X_train, y_train, batch_size)\n",
    "        if i == 0:\n",
    "            print(\"=====================\")\n",
    "            train_accuracy = sess.run(accuracy, feed_dict = {\n",
    "                    x_input:X_batch, y_teacher:y_batch, keep_prob_input:1.0, keep_prob:1.0\n",
    "            })\n",
    "            print(\"{} : training accuracy {}%\".format(epoch, train_accuracy*100))\n",
    "            test_accuracy = sess.run(accuracy, feed_dict={\n",
    "                x_input: X_test, y_teacher: y_test, keep_prob_input: 1.0, keep_prob: 1.0})\n",
    "            print(\"{} : test accuracy {}%\".format(epoch, test_accuracy*100))\n",
    "            \n",
    "            #ループの中で、最高の精度を持つネットワークを保存したい\n",
    "            if test_accuracy >= best_accuracy:\n",
    "                saver.save(sess, 'mnist_fc_best')\n",
    "                best_accuracy = test_accuracy\n",
    "                print(\"Validation accuracy improved: {}%. Saving the network.\".format(test_accuracy*100))\n",
    "            else:\n",
    "                #テストaccuracyが下がったときは、過学習なので1epoch前のモデルに戻す\n",
    "                saver.restore(sess, 'mnist_fc_best')\n",
    "                print(\"restore!!!! now : {}, before : {}\".format(test_accuracy*100, best_accuracy*100))\n",
    "                \n",
    "        sess.run(optimizer, feed_dict={\n",
    "                x_input: X_batch, y_teacher: y_batch, keep_prob_input: 0.9, keep_prob: 1.0})"
   ]
  },
  {
   "cell_type": "code",
   "execution_count": null,
   "metadata": {},
   "outputs": [],
   "source": []
  }
 ],
 "metadata": {
  "kernelspec": {
   "display_name": "Python 3",
   "language": "python",
   "name": "python3"
  },
  "language_info": {
   "codemirror_mode": {
    "name": "ipython",
    "version": 3
   },
   "file_extension": ".py",
   "mimetype": "text/x-python",
   "name": "python",
   "nbconvert_exporter": "python",
   "pygments_lexer": "ipython3",
   "version": "3.6.8"
  }
 },
 "nbformat": 4,
 "nbformat_minor": 2
}
