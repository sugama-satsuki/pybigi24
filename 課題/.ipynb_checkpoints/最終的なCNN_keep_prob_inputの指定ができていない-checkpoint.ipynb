{
 "cells": [
  {
   "cell_type": "markdown",
   "metadata": {},
   "source": [
    "## tensorflowによるCNNの実装"
   ]
  },
  {
   "cell_type": "code",
   "execution_count": 7,
   "metadata": {
    "scrolled": true
   },
   "outputs": [
    {
     "name": "stderr",
     "output_type": "stream",
     "text": [
      "C:\\Users\\okiso\\Anaconda3\\envs\\tensorflow-cpu\\lib\\site-packages\\sklearn\\utils\\deprecation.py:85: DeprecationWarning: Function fetch_mldata is deprecated; fetch_mldata was deprecated in version 0.20 and will be removed in version 0.22. Please use fetch_openml.\n",
      "  warnings.warn(msg, category=DeprecationWarning)\n",
      "C:\\Users\\okiso\\Anaconda3\\envs\\tensorflow-cpu\\lib\\site-packages\\sklearn\\utils\\deprecation.py:85: DeprecationWarning: Function mldata_filename is deprecated; mldata_filename was deprecated in version 0.20 and will be removed in version 0.22. Please use fetch_openml.\n",
      "  warnings.warn(msg, category=DeprecationWarning)\n"
     ]
    }
   ],
   "source": [
    "#データの取得\n",
    "import numpy as np\n",
    "import tensorflow as tf\n",
    "from sklearn.datasets import fetch_mldata\n",
    "mnist = fetch_mldata('MNIST original')"
   ]
  },
  {
   "cell_type": "code",
   "execution_count": null,
   "metadata": {},
   "outputs": [],
   "source": []
  },
  {
   "cell_type": "code",
   "execution_count": 2,
   "metadata": {},
   "outputs": [
    {
     "name": "stdout",
     "output_type": "stream",
     "text": [
      "[0 1 2 3 4 5 6 7 8 9]\n",
      "[1 0 0 0 0 0 0 0 0 0] 0.0\n"
     ]
    }
   ],
   "source": [
    "X = mnist.data\n",
    "y = mnist.target\n",
    "\n",
    "#データの加工\n",
    "from sklearn import preprocessing\n",
    "lb = preprocessing.LabelBinarizer()\n",
    "lb.fit(range(0,10))\n",
    "print(lb.classes_)\n",
    "y_onehot = lb.transform(y)\n",
    "print(y_onehot[0], y[0])"
   ]
  },
  {
   "cell_type": "code",
   "execution_count": 6,
   "metadata": {},
   "outputs": [],
   "source": [
    "#テストデータと訓練データに分ける\n",
    "from sklearn.model_selection import train_test_split\n",
    "X_train, X_test, y_train, y_test = map(lambda x : np.array(x).astype(np.float32), train_test_split(X, y_onehot, test_size=0.3))"
   ]
  },
  {
   "cell_type": "code",
   "execution_count": 13,
   "metadata": {},
   "outputs": [],
   "source": [
    "def weight_variable(shape):\n",
    "    #標準偏差0.01で切断正規分布(truncated normal distribution)にしたがって初期値をランダム生成\n",
    "    initial = tf.truncated_normal(shape, stddev=0.01)\n",
    "    return tf.Variable(initial)\n",
    "\n",
    "def bias_variable(shape):\n",
    "    #配列の要素分のバイアスを生成。初期値は0にする\n",
    "    initial = tf.constant(0.0, shape=shape)\n",
    "    return tf.Variable(initial)\n",
    "\n",
    "def conv2d(x, W):\n",
    "    #ストライドは、[1, stride, stride, 1]\n",
    "    #畳み込みの際、端がたたみ込まれる回数が少なくなるのを防ぐための0 padding. \"SAME\"でonに\n",
    "    return tf.nn.conv2d(x, W, strides=[1,1,1,1], padding='SAME')\n",
    "\n",
    "def max_pool_2x2(x):\n",
    "    #2*2の4マスの最大値を一つとして、圧縮する\n",
    "    return tf.nn.max_pool(x, ksize=[1,2,2,1], strides=[1,2,2,1], padding='SAME')\n",
    "\n",
    "#入力を画像セットとして、出力がnnの出力(10クラス)\n",
    "def lenet5(x):\n",
    "    x_input = tf.reshape(x, [-1, 28, 28, 1])\n",
    "    \n",
    "    #畳み込み層1\n",
    "    #[filter_height, filter_width, in_channels, channel_multiplier]\n",
    "    W_conv1 = weight_variable([5,5,1,6])\n",
    "    b_conv1 = bias_variable([6])\n",
    "    h_conv1 = tf.nn.relu(conv2d(x_input, W_conv1) + b_conv1)\n",
    "    #14*14に\n",
    "    h_pool1 = max_pool_2x2(h_conv1)\n",
    "    \n",
    "    #畳み込み層2\n",
    "    #[filter_isze, input, output]\n",
    "    W_conv2 = weight_variable([5,5,6,16])\n",
    "    b_conv2 = bias_variable([16])\n",
    "    h_conv2 = tf.nn.relu(conv2d(h_pool1, W_conv2) + b_conv2)\n",
    "    #7*7に\n",
    "    h_pool2 = max_pool_2x2(h_conv2)\n",
    "    \n",
    "    #全結合層1\n",
    "    W_fc1 = weight_variable([7*7*16, 120])\n",
    "    b_fc1 = bias_variable([120])\n",
    "    \n",
    "    #linearに渡すときは,flatにする\n",
    "    h_pool2_flat = tf.reshape(h_pool2, [-1,7*7*16])\n",
    "    h_fc1 = tf.nn.relu(tf.matmul(h_pool2_flat, W_fc1) + b_fc1)\n",
    "    \n",
    "    #全結合層2\n",
    "    W_fc2 = weight_variable([120, 64])\n",
    "    b_fc2 = bias_variable([64])\n",
    "    h_fc2 = tf.nn.relu(tf.matmul(h_fc1, W_fc2) + b_fc2)\n",
    "    \n",
    "    #全結合層3\n",
    "    W_fc3 = weight_variable([64,10])\n",
    "    b_fc3 = bias_variable([10])\n",
    "    h_fc3 = tf.nn.relu(tf.matmul(h_fc2, W_fc3) + b_fc3)\n",
    "    \n",
    "    return h_fc3"
   ]
  },
  {
   "cell_type": "code",
   "execution_count": 16,
   "metadata": {},
   "outputs": [],
   "source": [
    "x_input = tf.placeholder(tf.float32, [None, 784])\n",
    "y_teacher = tf.placeholder(tf.float32, [None, 10])\n",
    "\n",
    "y_out = lenet5(x_input)\n",
    "\n",
    "#コスト関数\n",
    "cross_entropy = tf.nn.softmax_cross_entropy_with_logits(labels=y_teacher,logits=y_out)\n",
    "cross_entropy = tf.reduce_mean(cross_entropy)\n",
    "\n",
    "#最適化関数\n",
    "optimizer = tf.train.AdamOptimizer(learning_rate=0.0001).minimize(cross_entropy)\n",
    "\n",
    "#ソフトマックスの確率最大の場所が、\n",
    "correct_prediction = tf.equal(tf.argmax(y_out, 1), tf.argmax(y_teacher, 1))\n",
    "accuracy = tf.reduce_mean(tf.cast(correct_prediction, tf.float32))"
   ]
  },
  {
   "cell_type": "code",
   "execution_count": 18,
   "metadata": {},
   "outputs": [
    {
     "name": "stdout",
     "output_type": "stream",
     "text": [
      "=======================================\n"
     ]
    },
    {
     "ename": "NameError",
     "evalue": "name 'keep_prob_input' is not defined",
     "output_type": "error",
     "traceback": [
      "\u001b[1;31m---------------------------------------------------------------------------\u001b[0m",
      "\u001b[1;31mNameError\u001b[0m                                 Traceback (most recent call last)",
      "\u001b[1;32m<ipython-input-18-4d3f9a3415d8>\u001b[0m in \u001b[0;36m<module>\u001b[1;34m\u001b[0m\n\u001b[0;32m     30\u001b[0m             \u001b[1;31m#精度確認のときは、drop outしない\u001b[0m\u001b[1;33m\u001b[0m\u001b[1;33m\u001b[0m\u001b[1;33m\u001b[0m\u001b[0m\n\u001b[0;32m     31\u001b[0m             train_accuracy = sess.run(accuracy, feed_dict={\n\u001b[1;32m---> 32\u001b[1;33m                 x_input: X_batch, y_teacher : y_batch, keep_prob_input: 1.0, keep_prob: 1.0})\n\u001b[0m\u001b[0;32m     33\u001b[0m             \u001b[0mprint\u001b[0m\u001b[1;33m(\u001b[0m\u001b[1;34m\"{} : training accuracy {}%\"\u001b[0m\u001b[1;33m.\u001b[0m\u001b[0mformat\u001b[0m\u001b[1;33m(\u001b[0m\u001b[0mepoch\u001b[0m\u001b[1;33m,\u001b[0m \u001b[0mtrain_accuracy\u001b[0m\u001b[1;33m*\u001b[0m\u001b[1;36m100\u001b[0m\u001b[1;33m)\u001b[0m\u001b[1;33m)\u001b[0m\u001b[1;33m\u001b[0m\u001b[1;33m\u001b[0m\u001b[0m\n\u001b[0;32m     34\u001b[0m             test_accuracy = sess.run(accuracy, feed_dict={\n",
      "\u001b[1;31mNameError\u001b[0m: name 'keep_prob_input' is not defined"
     ]
    }
   ],
   "source": [
    "#train:49000なので、100バッチ490回\n",
    "import random\n",
    "# create a saver\n",
    "saver = tf.train.Saver()\n",
    "\n",
    "# initialize the graph\n",
    "init = tf.global_variables_initializer()\n",
    "sess = tf.Session()\n",
    "sess.run(init)\n",
    "\n",
    "saver.save(sess, 'mnist_fc_best')\n",
    "\n",
    "batch_size = 100\n",
    "epoch_size = 20\n",
    "best_accuracy = 0.0\n",
    "\n",
    "def random_sample(X, y, size = 100):\n",
    "    idx = range(0 , len(y))\n",
    "    random_idx = random.sample(idx, size)\n",
    "    return X[random_idx, :], y[random_idx, :]\n",
    "\n",
    "for epoch in range(1, epoch_size+1):\n",
    "    #バッチ学習\n",
    "    for i in range(int(len(y_train)/batch_size)):\n",
    "        X_batch, y_batch = random_sample(X_train, y_train, 100)\n",
    "        #学習\n",
    "        #バッチの初めにプリント\n",
    "        if i == 0:\n",
    "            print(\"=======================================\")\n",
    "            #精度確認のときは、drop outしない\n",
    "            train_accuracy = sess.run(accuracy, feed_dict={\n",
    "                x_input: X_batch, y_teacher : y_batch, keep_prob_input: 1.0, keep_prob: 1.0})\n",
    "            print(\"{} : training accuracy {}%\".format(epoch, train_accuracy*100))\n",
    "            test_accuracy = sess.run(accuracy, feed_dict={\n",
    "                x_input: X_test, y_teacher: y_test, keep_prob_input: 1.0, keep_prob: 1.0})\n",
    "            print(\"{} : test accuracy {}%\".format(epoch, test_accuracy*100))\n",
    "\n",
    "            #ループの中で、最高の精度を持つネットワークを保存したい\n",
    "            if test_accuracy >= best_accuracy:\n",
    "                saver.save(sess, 'mnist_fc_best')\n",
    "                best_accuracy = test_accuracy\n",
    "                print(\"Validation accuracy improved: {}%. Saving the network.\".format(test_accuracy*100))\n",
    "            else:\n",
    "                #テストaccuracyが下がったときは、過学習なので1epoch前のモデルに戻す\n",
    "                saver.restore(sess, 'mnist_fc_best')\n",
    "                print(\"restore!!!! now : {}, before : {}\".format(test_accuracy*100, best_accuracy*100))\n",
    "    \n",
    "        #バッチ学習\n",
    "        #過学習を防ぐためにdrop out率を設定\n",
    "        sess.run(optimizer, feed_dict={\n",
    "                x_input: X_batch, y_teacher: y_batch, keep_prob_input: 0.9, keep_prob: 1.0})\n",
    "\n",
    "print(\"Best test accuracy: %g\" % best_accuracy*100)"
   ]
  },
  {
   "cell_type": "code",
   "execution_count": null,
   "metadata": {},
   "outputs": [],
   "source": []
  }
 ],
 "metadata": {
  "kernelspec": {
   "display_name": "Python 3",
   "language": "python",
   "name": "python3"
  },
  "language_info": {
   "codemirror_mode": {
    "name": "ipython",
    "version": 3
   },
   "file_extension": ".py",
   "mimetype": "text/x-python",
   "name": "python",
   "nbconvert_exporter": "python",
   "pygments_lexer": "ipython3",
   "version": "3.6.8"
  }
 },
 "nbformat": 4,
 "nbformat_minor": 2
}
