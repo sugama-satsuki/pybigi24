{
 "cells": [
  {
   "cell_type": "markdown",
   "metadata": {},
   "source": [
    "## 最小二乗法について"
   ]
  },
  {
   "cell_type": "markdown",
   "metadata": {},
   "source": [
    "[Pythonで最小二乗法をしてみよう](https://qiita.com/NNNiNiNNN/items/4fd5367f9ead6e5905a9)"
   ]
  },
  {
   "cell_type": "markdown",
   "metadata": {},
   "source": [
    "### y = ax + b型関数への近似"
   ]
  },
  {
   "cell_type": "code",
   "execution_count": null,
   "metadata": {},
   "outputs": [],
   "source": [
    "import numpy as np\n",
    "import matplotlib.pyplot as plt"
   ]
  },
  {
   "cell_type": "code",
   "execution_count": null,
   "metadata": {},
   "outputs": [],
   "source": [
    "x = np.array([1,2,4,6,7])\n",
    "y = np.array([1,3,3,5,4])"
   ]
  },
  {
   "cell_type": "code",
   "execution_count": null,
   "metadata": {},
   "outputs": [],
   "source": [
    "plt.scatter(x,y,color=\"k\")\n",
    "plt.show()"
   ]
  },
  {
   "cell_type": "code",
   "execution_count": null,
   "metadata": {},
   "outputs": [],
   "source": [
    "def reg1dim(x,y):\n",
    "    n = len(x)\n",
    "    w = ((np.dot(x,y) - y.sum() * x.sum()/n)/\n",
    "        ((x**2).sum() - x.sum()**2 / n))\n",
    "    \n",
    "    b = (y.sum() - a * x.sum())/n\n",
    "    return w,b\n",
    "\n",
    "w, b = reg1dim(x,y)"
   ]
  },
  {
   "cell_type": "code",
   "execution_count": null,
   "metadata": {},
   "outputs": [],
   "source": [
    "plt.scatter(x,y,color=\"k\")\n",
    "plt.plot([0, x.max()], [b, w* x.max() + b]) #(0,b)地点から(xの最大値, ax + b)地点までの線\n",
    "plt.show()\n",
    "print('w(重み):{}'.format(w))\n",
    "print('b(バイアス):{}'.format(b))"
   ]
  }
 ],
 "metadata": {
  "kernelspec": {
   "display_name": "Python 3",
   "language": "python",
   "name": "python3"
  },
  "language_info": {
   "codemirror_mode": {
    "name": "ipython",
    "version": 3
   },
   "file_extension": ".py",
   "mimetype": "text/x-python",
   "name": "python",
   "nbconvert_exporter": "python",
   "pygments_lexer": "ipython3",
   "version": "3.6.5"
  }
 },
 "nbformat": 4,
 "nbformat_minor": 2
}
