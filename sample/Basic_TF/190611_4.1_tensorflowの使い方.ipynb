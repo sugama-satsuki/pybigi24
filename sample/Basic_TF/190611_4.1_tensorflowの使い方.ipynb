{
 "cells": [
  {
   "cell_type": "markdown",
   "metadata": {},
   "source": [
    "## Tensorflowの使い方\n",
    "インストール方法"
   ]
  },
  {
   "cell_type": "code",
   "execution_count": 1,
   "metadata": {},
   "outputs": [],
   "source": [
    "import tensorflow as tf"
   ]
  },
  {
   "cell_type": "markdown",
   "metadata": {},
   "source": [
    "## basic concept\n",
    "    1. グラフ(computational graph)の構築\n",
    "    2. グラフ(computational graph)の実行\n",
    "\n",
    "### グラフとは?\n",
    "tensorflowでは、ノードというものを定義している\n",
    "何かinputがあって、何かoutputするもの\n",
    "inputがNoneの場合、定数(constant)として扱う"
   ]
  },
  {
   "cell_type": "markdown",
   "metadata": {},
   "source": [
    "まずグラフを構築して実行する。\n",
    "なぜグラフを構築するのか？\n",
    "機械学習やニューラルネットワークというのはいろんな演算だったり変数をたくさん並べて随時実行していく。\n",
    "演算していく。\n",
    "グラフとして説明していくと説明しやすいから。見た目的にも\n"
   ]
  },
  {
   "cell_type": "code",
   "execution_count": 7,
   "metadata": {},
   "outputs": [],
   "source": [
    "node1 = tf.constant(3.0, dtype=tf.float32)\n",
    "node2 = tf.constant(2.0, dtype=tf.float32)"
   ]
  },
  {
   "cell_type": "code",
   "execution_count": 8,
   "metadata": {},
   "outputs": [
    {
     "name": "stdout",
     "output_type": "stream",
     "text": [
      "Tensor(\"Const:0\", shape=(), dtype=float32) Tensor(\"Const_1:0\", shape=(), dtype=float32)\n"
     ]
    }
   ],
   "source": [
    "print(node1, node2)\n",
    "# tensol（テンソル）を定義することができている"
   ]
  },
  {
   "cell_type": "code",
   "execution_count": 9,
   "metadata": {},
   "outputs": [
    {
     "data": {
      "text/plain": [
       "[3.0, 2.0]"
      ]
     },
     "execution_count": 9,
     "metadata": {},
     "output_type": "execute_result"
    }
   ],
   "source": [
    "# tensol（テンソル）をデータとして取得したい場合は\n",
    "# グラフを実行すると返り値として戻ってくる\n",
    "#Sessionを定義して、グラフをSessionに埋め込んで実行して、結果を取得する\n",
    "sess = tf.Session()\n",
    "sess.run([node1, node2])"
   ]
  },
  {
   "cell_type": "code",
   "execution_count": 10,
   "metadata": {},
   "outputs": [
    {
     "data": {
      "text/plain": [
       "5.0"
      ]
     },
     "execution_count": 10,
     "metadata": {},
     "output_type": "execute_result"
    }
   ],
   "source": [
    "#グラフを定義して実行する\n",
    "node3 = tf.add(node1, node2)\n",
    "sess.run(node3)"
   ]
  },
  {
   "cell_type": "code",
   "execution_count": 6,
   "metadata": {},
   "outputs": [],
   "source": [
    "# 変数を定義する\n",
    "a = tf.placeholder(tf.float32)\n",
    "b = tf.placeholder(tf.float32)"
   ]
  },
  {
   "cell_type": "code",
   "execution_count": 7,
   "metadata": {},
   "outputs": [],
   "source": [
    "adder_node = tf.add(a,b) #node a と bを足す"
   ]
  },
  {
   "cell_type": "code",
   "execution_count": 9,
   "metadata": {},
   "outputs": [
    {
     "data": {
      "text/plain": [
       "8.0"
      ]
     },
     "execution_count": 9,
     "metadata": {},
     "output_type": "execute_result"
    }
   ],
   "source": [
    "# 引数を与えてあげる\n",
    "sess.run(adder_node,{a:4, b:4})\n",
    "\n",
    "#初期値を与えてあげる"
   ]
  },
  {
   "cell_type": "code",
   "execution_count": 10,
   "metadata": {},
   "outputs": [
    {
     "data": {
      "text/plain": [
       "array([4., 6.], dtype=float32)"
      ]
     },
     "execution_count": 10,
     "metadata": {},
     "output_type": "execute_result"
    }
   ],
   "source": [
    "sess.run(adder_node,{a:[1,2], b:[3,4]}) #配列を与えることができる"
   ]
  },
  {
   "cell_type": "code",
   "execution_count": 2,
   "metadata": {},
   "outputs": [
    {
     "name": "stdout",
     "output_type": "stream",
     "text": [
      "WARNING:tensorflow:From C:\\Users\\okiso\\Anaconda3\\envs\\tensorflow-cpu\\lib\\site-packages\\tensorflow\\python\\framework\\op_def_library.py:263: colocate_with (from tensorflow.python.framework.ops) is deprecated and will be removed in a future version.\n",
      "Instructions for updating:\n",
      "Colocations handled automatically by placer.\n"
     ]
    }
   ],
   "source": [
    "#重みとかは初期値があるやつが欲しい場合は、 Variableを使う\n",
    "W = tf.Variable([0.3], dtype=tf.float32)\n",
    "b = tf.Variable([-0.3], dtype=tf.float32)"
   ]
  },
  {
   "cell_type": "code",
   "execution_count": 3,
   "metadata": {},
   "outputs": [],
   "source": [
    "x = tf.placeholder(tf.float32) #入力パラメータとしてxを与える"
   ]
  },
  {
   "cell_type": "code",
   "execution_count": 4,
   "metadata": {},
   "outputs": [],
   "source": [
    "linear_model = W*x + b #線形のリニアモデルを作成"
   ]
  },
  {
   "cell_type": "code",
   "execution_count": 32,
   "metadata": {},
   "outputs": [],
   "source": [
    "#Variablesを使うときは初期化が必要\n",
    "init = tf.global_variables_initializer() \n",
    "sess.run(init) #すべてのVariablesの値が初期化される"
   ]
  },
  {
   "cell_type": "code",
   "execution_count": 33,
   "metadata": {},
   "outputs": [
    {
     "data": {
      "text/plain": [
       "array([0.        , 0.3       , 0.6       , 0.90000004], dtype=float32)"
      ]
     },
     "execution_count": 33,
     "metadata": {},
     "output_type": "execute_result"
    }
   ],
   "source": [
    "sess.run(linear_model, {x:[1,2,3,4]})"
   ]
  },
  {
   "cell_type": "markdown",
   "metadata": {},
   "source": [
    "### 線形回帰を行う"
   ]
  },
  {
   "cell_type": "code",
   "execution_count": 34,
   "metadata": {},
   "outputs": [
    {
     "data": {
      "text/plain": [
       "50.699997"
      ]
     },
     "execution_count": 34,
     "metadata": {},
     "output_type": "execute_result"
    }
   ],
   "source": [
    "y = tf.placeholder(tf.float32)\n",
    "square_delta = tf.square(linear_model - y) #最小二乗法で求める\n",
    "loss = tf.reduce_sum(square_delta)  #差分の合計をとっていく コスト関数\n",
    "sess.run(loss, {x:[1,2,3,4,5], y:[0,-1,-2,-3,-4]}) #実行する"
   ]
  },
  {
   "cell_type": "code",
   "execution_count": 27,
   "metadata": {},
   "outputs": [
    {
     "name": "stdout",
     "output_type": "stream",
     "text": [
      "W:[array([0.3], dtype=float32)]\n"
     ]
    }
   ],
   "source": [
    "print('W:{}'.format(sess.run([W])))"
   ]
  },
  {
   "cell_type": "code",
   "execution_count": 28,
   "metadata": {},
   "outputs": [
    {
     "name": "stdout",
     "output_type": "stream",
     "text": [
      "b:[array([-0.3], dtype=float32)]\n"
     ]
    }
   ],
   "source": [
    "print('b:{}'.format(sess.run([b])))"
   ]
  },
  {
   "cell_type": "code",
   "execution_count": 35,
   "metadata": {},
   "outputs": [
    {
     "name": "stdout",
     "output_type": "stream",
     "text": [
      "W:[array([-0.5291639], dtype=float32)]\n",
      "b:[array([-0.3842745], dtype=float32)]\n"
     ]
    }
   ],
   "source": [
    "#optimizerで最適化する\n",
    "    #optimizerって何？\n",
    "    # 最適ににするような感じ\n",
    "optimizer = tf.train.GradientDescentOptimizer(0.01) #これなんだ\n",
    "train = optimizer.minimize(loss)     #最適化するらしい (lossを使用して)\n",
    "\n",
    "sess.run(init) #すべて初期化してあげる\n",
    "\n",
    "for i in range(10):\n",
    "    sess.run(train, {x:[1,2,3,4], y:[0,-1,-2,-3]})\n",
    "print('W:{}'.format(sess.run([W])))\n",
    "print('b:{}'.format(sess.run([b])))"
   ]
  },
  {
   "cell_type": "code",
   "execution_count": null,
   "metadata": {},
   "outputs": [],
   "source": []
  },
  {
   "cell_type": "code",
   "execution_count": null,
   "metadata": {},
   "outputs": [],
   "source": []
  }
 ],
 "metadata": {
  "kernelspec": {
   "display_name": "Python 3",
   "language": "python",
   "name": "python3"
  },
  "language_info": {
   "codemirror_mode": {
    "name": "ipython",
    "version": 3
   },
   "file_extension": ".py",
   "mimetype": "text/x-python",
   "name": "python",
   "nbconvert_exporter": "python",
   "pygments_lexer": "ipython3",
   "version": "3.6.8"
  }
 },
 "nbformat": 4,
 "nbformat_minor": 2
}
