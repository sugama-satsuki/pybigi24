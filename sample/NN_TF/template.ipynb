{
 "cells": [
  {
   "cell_type": "code",
   "execution_count": null,
   "metadata": {},
   "outputs": [],
   "source": [
    "#必要なライブラリをimportsuru\n",
    "import tensorflow as tf\n",
    "import numpy as np\n",
    "from sklearn.datasets import fetch_mldata\n",
    "mnist = fetch_mldata(\"MNIST original\")"
   ]
  },
  {
   "cell_type": "markdown",
   "metadata": {},
   "source": [
    "MNIST originalがない場合はご連絡ください"
   ]
  },
  {
   "cell_type": "markdown",
   "metadata": {},
   "source": [
    "## 実際にニューラルネットワークを構築します\n",
    "1. データの取得と前処理\n",
    "2. 入力層\n",
    "3. 隠れそう"
   ]
  },
  {
   "cell_type": "markdown",
   "metadata": {},
   "source": []
  },
  {
   "cell_type": "code",
   "execution_count": null,
   "metadata": {},
   "outputs": [],
   "source": []
  },
  {
   "cell_type": "code",
   "execution_count": null,
   "metadata": {},
   "outputs": [],
   "source": []
  },
  {
   "cell_type": "code",
   "execution_count": null,
   "metadata": {},
   "outputs": [],
   "source": []
  },
  {
   "cell_type": "code",
   "execution_count": null,
   "metadata": {},
   "outputs": [],
   "source": [
    "X = mnist.data\n",
    "y = mnist.target\n",
    "\n",
    "from sklearn import preprocessing\n",
    "lb = preprocessing.LabelBinarizer() #バイナリーってなんだろ\n",
    "lb.fit(range(0,10)) #0から10個あると指定する感じかな\n",
    "y_onehot = lb.transform(y)"
   ]
  },
  {
   "cell_type": "code",
   "execution_count": null,
   "metadata": {},
   "outputs": [],
   "source": [
    "#サイズは指定することができるけど、画像の個数をNoneにすると任意にできる　batchサイズが変わっても大丈夫\n",
    "#batchの中でのデータについての処理をかく\n",
    "x_input = tf.placeholder(tf.float32, [None, 784])\n",
    "y_teacher = tf.placeholder(tf.float32, [None, 10])"
   ]
  },
  {
   "cell_type": "code",
   "execution_count": null,
   "metadata": {},
   "outputs": [],
   "source": [
    "#ドロップアウトの指定を行う\n",
    "#これはどれぐらい忘れさせるかを記憶させるための定数。引数で渡す\n",
    "###input層###\n",
    "keep_prob_input = tf.placeholder(tf.float32)"
   ]
  },
  {
   "cell_type": "code",
   "execution_count": null,
   "metadata": {},
   "outputs": [],
   "source": [
    "###第一層###\n",
    "x_input_layer = tf.nn.dropout(x_input, keep_prob=keep_prob_input)\n",
    "\n",
    "    #重みをつなげていく\n",
    "    \n",
    "#50 次の層を５０にすると\n",
    "def weight_variable(shape): #重みのを層を全部0にするとよくないのでランダムで初期化する関数を作る\n",
    "    #標準偏差が0.01の切断正規分布にしたがって初期値をランダム生成\n",
    "        #shapeの数だけ作成する\n",
    "    initial = tf.truncated_normal(shape, stddev=0.01) #切断正規分布(truncated_normal)のつくり方\n",
    "    return tf.Variable(initial)\n",
    "\n",
    "def bias_variable(shape): #baisもやる。これはゼロでいいから、shapeの分の0を作る\n",
    "    initial = tf.constant(0.0, shape=shape)\n",
    "    return tf.Variable(initial)    "
   ]
  },
  {
   "cell_type": "code",
   "execution_count": null,
   "metadata": {},
   "outputs": [],
   "source": [
    "hidden_layer_size = 50\n",
    "\n",
    "# 全部同じサイズで作る\n",
    "\n",
    "W_fc1 = weight_variable([784, hidden_layer_size])\n",
    "b_fc1 = bias_variable([hidden_layer_size])\n",
    "#----------↑までが第一層。次で活性化関数を使用する"
   ]
  },
  {
   "cell_type": "code",
   "execution_count": null,
   "metadata": {},
   "outputs": [],
   "source": [
    "#relu関数を活性化関数として使用\n",
    "h_fc1 = tf.nn.relu(tf.matmul(x_input_layer, W_fc1) + b_fc1) #第一層の出力の総和の計算\n",
    "\n",
    "keep_prob = tf.placeholder(tf.float32) #どれだけドロップアウトするか\n",
    "#ドロップアウト済みの出力\n",
    "h_fc1_drop = tf.nn.dropout(h_fc1, keep_prob)\n",
    "#--------------↑ここまでは説明しながら作る\n",
    "#--------------↓は第二層は同じようにやる\n",
    "#--------------第三層は出力層を作ってこんな感じにする\n",
    "#--------------コスト関数、最適化関数、iteration"
   ]
  },
  {
   "cell_type": "code",
   "execution_count": null,
   "metadata": {},
   "outputs": [],
   "source": [
    "###第二層###\n",
    "W_fc2 = weight_variable([hidden_layer_size, hidden_layer_size])\n",
    "b_fc2 = bias_variable([hidden_layer_size])\n",
    "h_fc2 = tf.nn.relu(tf.matmul(h_fc1_drop, W_fc2) + b_fc2)\n",
    "h_fc2_drop = tf.nn.dropout(h_fc2, keep_prob)\n",
    "\n",
    "###第三層###\n",
    "#出力は0~9までの10個を、softmax関数で確率として出力\n",
    "W_fc3 = weight_variable([hidden_layer_size, 10])\n",
    "b_fc3 = bias_variable([10])\n",
    "y_out = tf.nn.softmax(tf.matmul(h_fc2_drop, W_fc3) + b_fc3)"
   ]
  },
  {
   "cell_type": "code",
   "execution_count": null,
   "metadata": {},
   "outputs": [],
   "source": [
    "#コスト関数\n",
    "cross_entropy =  tf.reduce_mean(-tf.reduce_sum(y_teacher*tf.log(y_out), reduction_indices=[1]))\n",
    "\n",
    "#最適化関数\n",
    "optimizer = tf.train.AdamOptimizer(learning_rate=0.0001).minimize(cross_entropy)\n",
    "\n",
    "#iteration\n",
    "correct_prediction = tf.equal(tf.argmax(y_out, 1), tf.argmax(y_teacher, 1))\n",
    "                                \n",
    "accuracy = tf.reduce_mean(tf.cast(correct_prediction, tf.float32))"
   ]
  },
  {
   "cell_type": "code",
   "execution_count": null,
   "metadata": {},
   "outputs": [],
   "source": [
    "from sklearn.model_selection import train_test_split\n",
    "X_train, X_test, y_train, y_test = map(lambda x : np.array(x).astype(np.float32), train_test_split(X, y_onehot, test_size=0.3))"
   ]
  },
  {
   "cell_type": "code",
   "execution_count": null,
   "metadata": {},
   "outputs": [],
   "source": [
    "#train:49000\n",
    "#test :2100\n",
    "import random\n",
    "saver = tf.train.Saver()\n",
    "\n",
    "init = tf.global_variables_initializer()\n",
    "sess = tf.Session()\n",
    "sess.run(init)\n",
    "\n",
    "saver.save(sess, \"mnist_fc_best\")\n",
    "\n",
    "epoch_size = 20\n",
    "batch_size = 100\n",
    "best_accuracy = 0.0\n",
    "\n",
    "def random_sample(X, y, size=100):\n",
    "    idx = range(0, len(y))\n",
    "    random_idx = random.sample(idx, size)\n",
    "    return X[random_idx, :], y[random_idx, :]"
   ]
  },
  {
   "cell_type": "code",
   "execution_count": null,
   "metadata": {},
   "outputs": [],
   "source": [
    "# TensorBoardで追跡する変数を定義\n",
    "with tf.name_scope('summary'):\n",
    "    tf.summary.scalar('accuracy', accuracy)\n",
    "    merged = tf.summary.merge_all()\n",
    "    writer = tf.summary.FileWriter('./logs', sess.graph)"
   ]
  },
  {
   "cell_type": "code",
   "execution_count": null,
   "metadata": {},
   "outputs": [],
   "source": [
    "for epoch in range(1,epoch_size+1):\n",
    "    \n",
    "    for i in range(int(len(y_train)/batch_size)):\n",
    "        X_batch, y_batch = random_sample(X_train, y_train, batch_size)\n",
    "        if i == 0:\n",
    "            print(\"=====================\")\n",
    "            train_accuracy = sess.run(accuracy, feed_dict = {\n",
    "                    x_input:X_batch, y_teacher:y_batch, keep_prob_input:1.0, keep_prob:1.0\n",
    "            })\n",
    "            print(\"{} : training accuracy {}%\".format(epoch, train_accuracy*100))\n",
    "            test_accuracy = sess.run(accuracy, feed_dict={\n",
    "                x_input: X_test, y_teacher: y_test, keep_prob_input: 1.0, keep_prob: 1.0})\n",
    "            print(\"{} : test accuracy {}%\".format(epoch, test_accuracy*100))\n",
    "            \n",
    "            #ループの中で、最高の精度を持つネットワークを保存したい\n",
    "            if test_accuracy >= best_accuracy:\n",
    "                saver.save(sess, 'mnist_fc_best')\n",
    "                best_accuracy = test_accuracy\n",
    "                print(\"Validation accuracy improved: {}%. Saving the network.\".format(test_accuracy*100))\n",
    "            else:\n",
    "                #テストaccuracyが下がったときは、過学習なので1epoch前のモデルに戻す\n",
    "                saver.restore(sess, 'mnist_fc_best')\n",
    "                print(\"restore!!!! now : {}, before : {}\".format(test_accuracy*100, best_accuracy*100))\n",
    "                \n",
    "        sess.run(optimizer, feed_dict={\n",
    "                x_input: X_batch, y_teacher: y_batch, keep_prob_input: 0.9, keep_prob: 1.0})"
   ]
  },
  {
   "cell_type": "code",
   "execution_count": null,
   "metadata": {},
   "outputs": [],
   "source": []
  }
 ],
 "metadata": {
  "kernelspec": {
   "display_name": "Python 3",
   "language": "python",
   "name": "python3"
  },
  "language_info": {
   "codemirror_mode": {
    "name": "ipython",
    "version": 3
   },
   "file_extension": ".py",
   "mimetype": "text/x-python",
   "name": "python",
   "nbconvert_exporter": "python",
   "pygments_lexer": "ipython3",
   "version": "3.6.8"
  }
 },
 "nbformat": 4,
 "nbformat_minor": 2
}
